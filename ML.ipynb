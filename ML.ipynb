{
 "cells": [
  {
   "cell_type": "markdown",
   "id": "c1fd0e58",
   "metadata": {},
   "source": [
    "# Vaccination in the UK"
   ]
  },
  {
   "cell_type": "markdown",
   "id": "e42dfa31",
   "metadata": {},
   "source": [
    "Import libraries"
   ]
  },
  {
   "cell_type": "code",
   "execution_count": 1,
   "id": "97a23c10",
   "metadata": {},
   "outputs": [],
   "source": [
    "# work with dataframes\n",
    "import pandas as pd\n",
    "# work with dates\n",
    "import datetime as dt\n",
    "# explore datasets\n",
    "from pandas_profiling import ProfileReport\n",
    "from pandas_profiling.utils.cache import cache_file\n",
    "# build a model\n",
    "from sklearn.tree import DecisionTreeRegressor\n",
    "from sklearn.ensemble import RandomForestRegressor\n",
    "# split the dataset\n",
    "from sklearn.model_selection import train_test_split\n",
    "# evaluate the model\n",
    "from sklearn.metrics import mean_absolute_error\n",
    "# graph data\n",
    "import matplotlib as plt\n",
    "import numpy as np\n",
    "# infinity\n",
    "import math"
   ]
  },
  {
   "cell_type": "markdown",
   "id": "d730e63a",
   "metadata": {},
   "source": [
    "## Step 0: Read the dataset"
   ]
  },
  {
   "cell_type": "markdown",
   "id": "f875bd16",
   "metadata": {},
   "source": [
    "Read csv-file"
   ]
  },
  {
   "cell_type": "code",
   "execution_count": 2,
   "id": "869c62c4",
   "metadata": {},
   "outputs": [],
   "source": [
    "path = \"/Users/travel_mechtal/Documents/UWE/Portfolio/\"\n",
    "data=pd.read_csv(path + \"region_2022-01-27.csv\")"
   ]
  },
  {
   "cell_type": "markdown",
   "id": "22f4383c",
   "metadata": {},
   "source": [
    "Look at the five first rows of the dataset"
   ]
  },
  {
   "cell_type": "code",
   "execution_count": 3,
   "id": "db07a88a",
   "metadata": {},
   "outputs": [
    {
     "data": {
      "text/html": [
       "<div>\n",
       "<style scoped>\n",
       "    .dataframe tbody tr th:only-of-type {\n",
       "        vertical-align: middle;\n",
       "    }\n",
       "\n",
       "    .dataframe tbody tr th {\n",
       "        vertical-align: top;\n",
       "    }\n",
       "\n",
       "    .dataframe thead th {\n",
       "        text-align: right;\n",
       "    }\n",
       "</style>\n",
       "<table border=\"1\" class=\"dataframe\">\n",
       "  <thead>\n",
       "    <tr style=\"text-align: right;\">\n",
       "      <th></th>\n",
       "      <th>areaCode</th>\n",
       "      <th>areaName</th>\n",
       "      <th>areaType</th>\n",
       "      <th>date</th>\n",
       "      <th>newPeopleVaccinatedFirstDoseByVaccinationDate</th>\n",
       "      <th>newPeopleVaccinatedSecondDoseByVaccinationDate</th>\n",
       "      <th>newPeopleVaccinatedThirdInjectionByVaccinationDate</th>\n",
       "    </tr>\n",
       "  </thead>\n",
       "  <tbody>\n",
       "    <tr>\n",
       "      <th>0</th>\n",
       "      <td>E12000009</td>\n",
       "      <td>South West</td>\n",
       "      <td>region</td>\n",
       "      <td>2022-01-26</td>\n",
       "      <td>986</td>\n",
       "      <td>2520</td>\n",
       "      <td>4034.0</td>\n",
       "    </tr>\n",
       "    <tr>\n",
       "      <th>1</th>\n",
       "      <td>E12000009</td>\n",
       "      <td>South West</td>\n",
       "      <td>region</td>\n",
       "      <td>2022-01-25</td>\n",
       "      <td>899</td>\n",
       "      <td>1845</td>\n",
       "      <td>4283.0</td>\n",
       "    </tr>\n",
       "    <tr>\n",
       "      <th>2</th>\n",
       "      <td>E12000009</td>\n",
       "      <td>South West</td>\n",
       "      <td>region</td>\n",
       "      <td>2022-01-24</td>\n",
       "      <td>723</td>\n",
       "      <td>1445</td>\n",
       "      <td>3441.0</td>\n",
       "    </tr>\n",
       "    <tr>\n",
       "      <th>3</th>\n",
       "      <td>E12000009</td>\n",
       "      <td>South West</td>\n",
       "      <td>region</td>\n",
       "      <td>2022-01-23</td>\n",
       "      <td>1035</td>\n",
       "      <td>3007</td>\n",
       "      <td>3439.0</td>\n",
       "    </tr>\n",
       "    <tr>\n",
       "      <th>4</th>\n",
       "      <td>E12000009</td>\n",
       "      <td>South West</td>\n",
       "      <td>region</td>\n",
       "      <td>2022-01-22</td>\n",
       "      <td>1822</td>\n",
       "      <td>4709</td>\n",
       "      <td>5896.0</td>\n",
       "    </tr>\n",
       "  </tbody>\n",
       "</table>\n",
       "</div>"
      ],
      "text/plain": [
       "    areaCode    areaName areaType        date  \\\n",
       "0  E12000009  South West   region  2022-01-26   \n",
       "1  E12000009  South West   region  2022-01-25   \n",
       "2  E12000009  South West   region  2022-01-24   \n",
       "3  E12000009  South West   region  2022-01-23   \n",
       "4  E12000009  South West   region  2022-01-22   \n",
       "\n",
       "   newPeopleVaccinatedFirstDoseByVaccinationDate  \\\n",
       "0                                            986   \n",
       "1                                            899   \n",
       "2                                            723   \n",
       "3                                           1035   \n",
       "4                                           1822   \n",
       "\n",
       "   newPeopleVaccinatedSecondDoseByVaccinationDate  \\\n",
       "0                                            2520   \n",
       "1                                            1845   \n",
       "2                                            1445   \n",
       "3                                            3007   \n",
       "4                                            4709   \n",
       "\n",
       "   newPeopleVaccinatedThirdInjectionByVaccinationDate  \n",
       "0                                             4034.0   \n",
       "1                                             4283.0   \n",
       "2                                             3441.0   \n",
       "3                                             3439.0   \n",
       "4                                             5896.0   "
      ]
     },
     "execution_count": 3,
     "metadata": {},
     "output_type": "execute_result"
    }
   ],
   "source": [
    "data.head()"
   ]
  },
  {
   "cell_type": "markdown",
   "id": "f97daf72",
   "metadata": {},
   "source": [
    "Drop unnecessary columns"
   ]
  },
  {
   "cell_type": "code",
   "execution_count": 4,
   "id": "f03d6c25",
   "metadata": {},
   "outputs": [],
   "source": [
    "dataset = data.drop([\"areaCode\", \"areaName\", \"areaType\"], axis=1)"
   ]
  },
  {
   "cell_type": "markdown",
   "id": "78ffde8b",
   "metadata": {},
   "source": [
    "Rename columns"
   ]
  },
  {
   "cell_type": "code",
   "execution_count": 5,
   "id": "5204dc3a",
   "metadata": {},
   "outputs": [],
   "source": [
    "dataset = dataset.rename(columns={\"newPeopleVaccinatedFirstDoseByVaccinationDate\":\"First\", \n",
    "                                  \"newPeopleVaccinatedSecondDoseByVaccinationDate\":\"Second\", \n",
    "                                  \"newPeopleVaccinatedThirdInjectionByVaccinationDate\":\"Third\"})"
   ]
  },
  {
   "cell_type": "markdown",
   "id": "dd095625",
   "metadata": {},
   "source": [
    "Look at the final version of the dataset"
   ]
  },
  {
   "cell_type": "code",
   "execution_count": 6,
   "id": "816ace13",
   "metadata": {},
   "outputs": [
    {
     "data": {
      "text/html": [
       "<div>\n",
       "<style scoped>\n",
       "    .dataframe tbody tr th:only-of-type {\n",
       "        vertical-align: middle;\n",
       "    }\n",
       "\n",
       "    .dataframe tbody tr th {\n",
       "        vertical-align: top;\n",
       "    }\n",
       "\n",
       "    .dataframe thead th {\n",
       "        text-align: right;\n",
       "    }\n",
       "</style>\n",
       "<table border=\"1\" class=\"dataframe\">\n",
       "  <thead>\n",
       "    <tr style=\"text-align: right;\">\n",
       "      <th></th>\n",
       "      <th>date</th>\n",
       "      <th>First</th>\n",
       "      <th>Second</th>\n",
       "      <th>Third</th>\n",
       "    </tr>\n",
       "  </thead>\n",
       "  <tbody>\n",
       "    <tr>\n",
       "      <th>0</th>\n",
       "      <td>2022-01-26</td>\n",
       "      <td>986</td>\n",
       "      <td>2520</td>\n",
       "      <td>4034.0</td>\n",
       "    </tr>\n",
       "    <tr>\n",
       "      <th>1</th>\n",
       "      <td>2022-01-25</td>\n",
       "      <td>899</td>\n",
       "      <td>1845</td>\n",
       "      <td>4283.0</td>\n",
       "    </tr>\n",
       "    <tr>\n",
       "      <th>2</th>\n",
       "      <td>2022-01-24</td>\n",
       "      <td>723</td>\n",
       "      <td>1445</td>\n",
       "      <td>3441.0</td>\n",
       "    </tr>\n",
       "    <tr>\n",
       "      <th>3</th>\n",
       "      <td>2022-01-23</td>\n",
       "      <td>1035</td>\n",
       "      <td>3007</td>\n",
       "      <td>3439.0</td>\n",
       "    </tr>\n",
       "    <tr>\n",
       "      <th>4</th>\n",
       "      <td>2022-01-22</td>\n",
       "      <td>1822</td>\n",
       "      <td>4709</td>\n",
       "      <td>5896.0</td>\n",
       "    </tr>\n",
       "  </tbody>\n",
       "</table>\n",
       "</div>"
      ],
      "text/plain": [
       "         date  First  Second   Third\n",
       "0  2022-01-26    986    2520  4034.0\n",
       "1  2022-01-25    899    1845  4283.0\n",
       "2  2022-01-24    723    1445  3441.0\n",
       "3  2022-01-23   1035    3007  3439.0\n",
       "4  2022-01-22   1822    4709  5896.0"
      ]
     },
     "execution_count": 6,
     "metadata": {},
     "output_type": "execute_result"
    }
   ],
   "source": [
    "dataset.head()"
   ]
  },
  {
   "cell_type": "markdown",
   "id": "4d206064",
   "metadata": {},
   "source": [
    "## Step 1: Work with dates. Engineer Datatime Features"
   ]
  },
  {
   "cell_type": "markdown",
   "id": "9d791dec",
   "metadata": {},
   "source": [
    "Get the date in python-format"
   ]
  },
  {
   "cell_type": "code",
   "execution_count": 8,
   "id": "3ddd3407",
   "metadata": {},
   "outputs": [],
   "source": [
    "dataset['Date'] = pd.to_datetime(dataset['date'])"
   ]
  },
  {
   "cell_type": "code",
   "execution_count": 9,
   "id": "a2b816f7",
   "metadata": {},
   "outputs": [],
   "source": [
    "dataset['Date'] = dataset['Date'].dt.strftime('%Y-%m-%d')"
   ]
  },
  {
   "cell_type": "markdown",
   "id": "c9b5e844",
   "metadata": {},
   "source": [
    "Get features:\n",
    "1) Year\n",
    "2) Month\n",
    "3) Day\n",
    "etc."
   ]
  },
  {
   "cell_type": "code",
   "execution_count": 10,
   "id": "d93f1d03",
   "metadata": {},
   "outputs": [],
   "source": [
    "dataset['Year'] = pd.DatetimeIndex(dataset['Date']).year"
   ]
  },
  {
   "cell_type": "code",
   "execution_count": 11,
   "id": "7857e16b",
   "metadata": {},
   "outputs": [],
   "source": [
    "dataset['Month'] = pd.DatetimeIndex(dataset['Date']).month"
   ]
  },
  {
   "cell_type": "code",
   "execution_count": 12,
   "id": "047846ab",
   "metadata": {},
   "outputs": [],
   "source": [
    "dataset['Day'] = pd.DatetimeIndex(dataset['Date']).day"
   ]
  },
  {
   "cell_type": "code",
   "execution_count": 13,
   "id": "13f464ae",
   "metadata": {},
   "outputs": [],
   "source": [
    "dataset['DayOfYear'] = pd.DatetimeIndex(dataset['Date']).dayofyear"
   ]
  },
  {
   "cell_type": "code",
   "execution_count": 14,
   "id": "55e8fd1b",
   "metadata": {},
   "outputs": [
    {
     "name": "stderr",
     "output_type": "stream",
     "text": [
      "/var/folders/gf/5d3ljzjd5tj4xmg688lrs9j40000gn/T/ipykernel_51063/1358769492.py:1: FutureWarning: weekofyear and week have been deprecated, please use DatetimeIndex.isocalendar().week instead, which returns a Series.  To exactly reproduce the behavior of week and weekofyear and return an Index, you may call pd.Int64Index(idx.isocalendar().week)\n",
      "  dataset['WeekOfYear'] = pd.DatetimeIndex(dataset['Date']).weekofyear\n"
     ]
    }
   ],
   "source": [
    "dataset['WeekOfYear'] = pd.DatetimeIndex(dataset['Date']).weekofyear"
   ]
  },
  {
   "cell_type": "code",
   "execution_count": 15,
   "id": "1c273a05",
   "metadata": {},
   "outputs": [],
   "source": [
    "dataset['Weekday'] = pd.DatetimeIndex(dataset['Date']).weekday"
   ]
  },
  {
   "cell_type": "code",
   "execution_count": 16,
   "id": "ce4f78e1",
   "metadata": {},
   "outputs": [],
   "source": [
    "dataset['Quarter'] = pd.DatetimeIndex(dataset['Date']).quarter"
   ]
  },
  {
   "cell_type": "code",
   "execution_count": 17,
   "id": "b2902cdc",
   "metadata": {},
   "outputs": [],
   "source": [
    "dataset['IsMonthStart'] = pd.DatetimeIndex(dataset['Date']).is_month_start"
   ]
  },
  {
   "cell_type": "code",
   "execution_count": 18,
   "id": "bb893824",
   "metadata": {},
   "outputs": [],
   "source": [
    "dataset['IsMonthEnd'] = pd.DatetimeIndex(dataset['Date']).is_month_end"
   ]
  },
  {
   "cell_type": "markdown",
   "id": "6ac6dd6c",
   "metadata": {},
   "source": [
    "Look at the dataset with new features"
   ]
  },
  {
   "cell_type": "code",
   "execution_count": 19,
   "id": "40f46252",
   "metadata": {},
   "outputs": [
    {
     "data": {
      "text/html": [
       "<div>\n",
       "<style scoped>\n",
       "    .dataframe tbody tr th:only-of-type {\n",
       "        vertical-align: middle;\n",
       "    }\n",
       "\n",
       "    .dataframe tbody tr th {\n",
       "        vertical-align: top;\n",
       "    }\n",
       "\n",
       "    .dataframe thead th {\n",
       "        text-align: right;\n",
       "    }\n",
       "</style>\n",
       "<table border=\"1\" class=\"dataframe\">\n",
       "  <thead>\n",
       "    <tr style=\"text-align: right;\">\n",
       "      <th></th>\n",
       "      <th>date</th>\n",
       "      <th>First</th>\n",
       "      <th>Second</th>\n",
       "      <th>Third</th>\n",
       "      <th>Date</th>\n",
       "      <th>Year</th>\n",
       "      <th>Month</th>\n",
       "      <th>Day</th>\n",
       "      <th>DayOfYear</th>\n",
       "      <th>WeekOfYear</th>\n",
       "      <th>Weekday</th>\n",
       "      <th>Quarter</th>\n",
       "      <th>IsMonthStart</th>\n",
       "      <th>IsMonthEnd</th>\n",
       "    </tr>\n",
       "  </thead>\n",
       "  <tbody>\n",
       "    <tr>\n",
       "      <th>0</th>\n",
       "      <td>2022-01-26</td>\n",
       "      <td>986</td>\n",
       "      <td>2520</td>\n",
       "      <td>4034.0</td>\n",
       "      <td>2022-01-26</td>\n",
       "      <td>2022</td>\n",
       "      <td>1</td>\n",
       "      <td>26</td>\n",
       "      <td>26</td>\n",
       "      <td>4</td>\n",
       "      <td>2</td>\n",
       "      <td>1</td>\n",
       "      <td>False</td>\n",
       "      <td>False</td>\n",
       "    </tr>\n",
       "    <tr>\n",
       "      <th>1</th>\n",
       "      <td>2022-01-25</td>\n",
       "      <td>899</td>\n",
       "      <td>1845</td>\n",
       "      <td>4283.0</td>\n",
       "      <td>2022-01-25</td>\n",
       "      <td>2022</td>\n",
       "      <td>1</td>\n",
       "      <td>25</td>\n",
       "      <td>25</td>\n",
       "      <td>4</td>\n",
       "      <td>1</td>\n",
       "      <td>1</td>\n",
       "      <td>False</td>\n",
       "      <td>False</td>\n",
       "    </tr>\n",
       "    <tr>\n",
       "      <th>2</th>\n",
       "      <td>2022-01-24</td>\n",
       "      <td>723</td>\n",
       "      <td>1445</td>\n",
       "      <td>3441.0</td>\n",
       "      <td>2022-01-24</td>\n",
       "      <td>2022</td>\n",
       "      <td>1</td>\n",
       "      <td>24</td>\n",
       "      <td>24</td>\n",
       "      <td>4</td>\n",
       "      <td>0</td>\n",
       "      <td>1</td>\n",
       "      <td>False</td>\n",
       "      <td>False</td>\n",
       "    </tr>\n",
       "    <tr>\n",
       "      <th>3</th>\n",
       "      <td>2022-01-23</td>\n",
       "      <td>1035</td>\n",
       "      <td>3007</td>\n",
       "      <td>3439.0</td>\n",
       "      <td>2022-01-23</td>\n",
       "      <td>2022</td>\n",
       "      <td>1</td>\n",
       "      <td>23</td>\n",
       "      <td>23</td>\n",
       "      <td>3</td>\n",
       "      <td>6</td>\n",
       "      <td>1</td>\n",
       "      <td>False</td>\n",
       "      <td>False</td>\n",
       "    </tr>\n",
       "    <tr>\n",
       "      <th>4</th>\n",
       "      <td>2022-01-22</td>\n",
       "      <td>1822</td>\n",
       "      <td>4709</td>\n",
       "      <td>5896.0</td>\n",
       "      <td>2022-01-22</td>\n",
       "      <td>2022</td>\n",
       "      <td>1</td>\n",
       "      <td>22</td>\n",
       "      <td>22</td>\n",
       "      <td>3</td>\n",
       "      <td>5</td>\n",
       "      <td>1</td>\n",
       "      <td>False</td>\n",
       "      <td>False</td>\n",
       "    </tr>\n",
       "  </tbody>\n",
       "</table>\n",
       "</div>"
      ],
      "text/plain": [
       "         date  First  Second   Third        Date  Year  Month  Day  DayOfYear  \\\n",
       "0  2022-01-26    986    2520  4034.0  2022-01-26  2022      1   26         26   \n",
       "1  2022-01-25    899    1845  4283.0  2022-01-25  2022      1   25         25   \n",
       "2  2022-01-24    723    1445  3441.0  2022-01-24  2022      1   24         24   \n",
       "3  2022-01-23   1035    3007  3439.0  2022-01-23  2022      1   23         23   \n",
       "4  2022-01-22   1822    4709  5896.0  2022-01-22  2022      1   22         22   \n",
       "\n",
       "   WeekOfYear  Weekday  Quarter  IsMonthStart  IsMonthEnd  \n",
       "0           4        2        1         False       False  \n",
       "1           4        1        1         False       False  \n",
       "2           4        0        1         False       False  \n",
       "3           3        6        1         False       False  \n",
       "4           3        5        1         False       False  "
      ]
     },
     "execution_count": 19,
     "metadata": {},
     "output_type": "execute_result"
    }
   ],
   "source": [
    "dataset.head()"
   ]
  },
  {
   "cell_type": "code",
   "execution_count": 20,
   "id": "988c15ee",
   "metadata": {},
   "outputs": [
    {
     "name": "stdout",
     "output_type": "stream",
     "text": [
      "<class 'pandas.core.frame.DataFrame'>\n",
      "RangeIndex: 415 entries, 0 to 414\n",
      "Data columns (total 14 columns):\n",
      " #   Column        Non-Null Count  Dtype  \n",
      "---  ------        --------------  -----  \n",
      " 0   date          415 non-null    object \n",
      " 1   First         415 non-null    int64  \n",
      " 2   Second        415 non-null    int64  \n",
      " 3   Third         411 non-null    float64\n",
      " 4   Date          415 non-null    object \n",
      " 5   Year          415 non-null    int64  \n",
      " 6   Month         415 non-null    int64  \n",
      " 7   Day           415 non-null    int64  \n",
      " 8   DayOfYear     415 non-null    int64  \n",
      " 9   WeekOfYear    415 non-null    int64  \n",
      " 10  Weekday       415 non-null    int64  \n",
      " 11  Quarter       415 non-null    int64  \n",
      " 12  IsMonthStart  415 non-null    bool   \n",
      " 13  IsMonthEnd    415 non-null    bool   \n",
      "dtypes: bool(2), float64(1), int64(9), object(2)\n",
      "memory usage: 39.8+ KB\n"
     ]
    }
   ],
   "source": [
    "dataset.info()"
   ]
  },
  {
   "cell_type": "markdown",
   "id": "8ec735fa",
   "metadata": {},
   "source": [
    "**What is about Missing values? \n",
    "For example, there may be only one dose per day.**"
   ]
  },
  {
   "cell_type": "markdown",
   "id": "c923b2f6",
   "metadata": {},
   "source": [
    "## Step 2: Explore the dataset"
   ]
  },
  {
   "cell_type": "code",
   "execution_count": 21,
   "id": "c4cbcc32",
   "metadata": {},
   "outputs": [],
   "source": [
    "profile = ProfileReport(dataset)"
   ]
  },
  {
   "cell_type": "code",
   "execution_count": 22,
   "id": "60f4e0d3",
   "metadata": {},
   "outputs": [
    {
     "data": {
      "application/vnd.jupyter.widget-view+json": {
       "model_id": "5ba4e90bfb394ff6b4b59c34a6496415",
       "version_major": 2,
       "version_minor": 0
      },
      "text/plain": [
       "Summarize dataset:   0%|          | 0/5 [00:00<?, ?it/s]"
      ]
     },
     "metadata": {},
     "output_type": "display_data"
    },
    {
     "data": {
      "application/vnd.jupyter.widget-view+json": {
       "model_id": "63e6d3a3e1914570b69ef186272f70d9",
       "version_major": 2,
       "version_minor": 0
      },
      "text/plain": [
       "Generate report structure:   0%|          | 0/1 [00:00<?, ?it/s]"
      ]
     },
     "metadata": {},
     "output_type": "display_data"
    },
    {
     "data": {
      "application/vnd.jupyter.widget-view+json": {
       "model_id": "055e9d9586f743b6879601ef21a1f219",
       "version_major": 2,
       "version_minor": 0
      },
      "text/plain": [
       "Render HTML:   0%|          | 0/1 [00:00<?, ?it/s]"
      ]
     },
     "metadata": {},
     "output_type": "display_data"
    },
    {
     "data": {
      "application/vnd.jupyter.widget-view+json": {
       "model_id": "91886f9044b5404ea7a8cab0f4adafe2",
       "version_major": 2,
       "version_minor": 0
      },
      "text/plain": [
       "Export report to file:   0%|          | 0/1 [00:00<?, ?it/s]"
      ]
     },
     "metadata": {},
     "output_type": "display_data"
    }
   ],
   "source": [
    "profile.to_file(\"DatasetRegion.html\")"
   ]
  },
  {
   "cell_type": "code",
   "execution_count": 23,
   "id": "7afb7e2b",
   "metadata": {},
   "outputs": [
    {
     "data": {
      "text/plain": [
       "Weekday\n",
       "0     7464.813559\n",
       "1     9470.350000\n",
       "2    11904.450000\n",
       "3    12821.627119\n",
       "4    13246.372881\n",
       "5    15635.271186\n",
       "6     6732.288136\n",
       "Name: First, dtype: float64"
      ]
     },
     "execution_count": 23,
     "metadata": {},
     "output_type": "execute_result"
    }
   ],
   "source": [
    "dataset.groupby(\"Weekday\").First.mean()"
   ]
  },
  {
   "cell_type": "markdown",
   "id": "5a3ed8ea",
   "metadata": {},
   "source": [
    "## Step 3: Split sets and Train a Machine Learning Model"
   ]
  },
  {
   "cell_type": "markdown",
   "id": "64630550",
   "metadata": {},
   "source": [
    "Prepare sets"
   ]
  },
  {
   "cell_type": "code",
   "execution_count": 27,
   "id": "a1c9c5c9",
   "metadata": {},
   "outputs": [],
   "source": [
    "def prepare_sets(dataset, feature_columns, y_column):\n",
    "    train_X, val_X, train_y, val_y = train_test_split(dataset[feature_columns], dataset[y_column], random_state=1)\n",
    "    return train_X, val_X, train_y, val_y"
   ]
  },
  {
   "cell_type": "markdown",
   "id": "88c15f0e",
   "metadata": {},
   "source": [
    "Train and evaluate the model"
   ]
  },
  {
   "cell_type": "code",
   "execution_count": 26,
   "id": "b7b68ebe",
   "metadata": {},
   "outputs": [],
   "source": [
    "def train_model(train_X, val_X, train_y, val_y, model_type, n_estimators=None):\n",
    "    if model_type == \"DecisionTree\":\n",
    "        model = DecisionTreeRegressor(random_state=1)\n",
    "    elif model_type == \"RandomForest\":\n",
    "        model = RandomForestRegressor(random_state=1, n_estimators=n_estimators)\n",
    "    model.fit(train_X, train_y)\n",
    "    predictions = model.predict(val_X)\n",
    "    mae = mean_absolute_error(predictions, val_y)\n",
    "    return mae, predictions"
   ]
  },
  {
   "cell_type": "markdown",
   "id": "6dc64611",
   "metadata": {},
   "source": [
    "## Step 4: Evaluate performance"
   ]
  },
  {
   "cell_type": "markdown",
   "id": "3e34fdd6",
   "metadata": {},
   "source": [
    "Define necessary variables"
   ]
  },
  {
   "cell_type": "code",
   "execution_count": 28,
   "id": "0ffcd810",
   "metadata": {},
   "outputs": [],
   "source": [
    "feature_columns = [\"Year\", \"Month\", \"Day\", \"Weekday\", \"IsMonthStart\", \"IsMonthEnd\"]\n",
    "y_list = [\"First\", \"Second\"]\n",
    "model_list = [\"DecisionTree\", \"RandomForest\"]\n",
    "estimators_list = [10000]\n",
    "results = {}\n",
    "val_sets = {}"
   ]
  },
  {
   "cell_type": "markdown",
   "id": "58c76ec0",
   "metadata": {},
   "source": [
    "Train models using parameters"
   ]
  },
  {
   "cell_type": "code",
   "execution_count": 29,
   "id": "b1f399f3",
   "metadata": {},
   "outputs": [],
   "source": [
    "for y in y_list:\n",
    "    train_X, val_X, train_y, val_y = prepare_sets(dataset, feature_columns, y)\n",
    "    val_sets[(y, \"val_X\")] = val_X\n",
    "    val_sets[(y, \"val_y\")] = val_y\n",
    "    for model in model_list:\n",
    "        if model != \"RandomForest\":\n",
    "            results[(y,model,\"mae\", 0)], results[(y,model,\"predictions\", 0)] = train_model(train_X, val_X, train_y, val_y, model, n_estimators=None)\n",
    "        else:\n",
    "            for n in estimators_list:\n",
    "                results[(y,model,\"mae\", n)], results[(y,model,\"predictions\", n)] = train_model(train_X, val_X, train_y, val_y, model, n)"
   ]
  },
  {
   "cell_type": "markdown",
   "id": "cf00e6b8",
   "metadata": {},
   "source": [
    "Show results"
   ]
  },
  {
   "cell_type": "code",
   "execution_count": 30,
   "id": "0429f4e1",
   "metadata": {},
   "outputs": [
    {
     "name": "stdout",
     "output_type": "stream",
     "text": [
      "('First', 'DecisionTree', 'mae', 0) Result:  0.6437087212771292\n",
      "('First', 'RandomForest', 'mae', 10000) Result:  0.7530659904235966\n",
      "('Second', 'DecisionTree', 'mae', 0) Result:  0.706121636338128\n",
      "('Second', 'RandomForest', 'mae', 10000) Result:  0.775722814666034\n"
     ]
    }
   ],
   "source": [
    "for res in results.keys():\n",
    "    column, model, measure, treecount = res\n",
    "    if measure == \"mae\":\n",
    "        print(res, \"Result: \", 1 - results[res]/dataset[column].mean())"
   ]
  },
  {
   "cell_type": "code",
   "execution_count": 34,
   "id": "ef93fa9b",
   "metadata": {},
   "outputs": [
    {
     "name": "stdout",
     "output_type": "stream",
     "text": [
      "388     3067\n",
      "102     1261\n",
      "187     2964\n",
      "162     2420\n",
      "90      5791\n",
      "       ...  \n",
      "164     1443\n",
      "228    27872\n",
      "39      2812\n",
      "261    10707\n",
      "185     2022\n",
      "Name: First, Length: 104, dtype: int64\n",
      "388      582\n",
      "102     2233\n",
      "187    13165\n",
      "162    12100\n",
      "90      1582\n",
      "       ...  \n",
      "164     9930\n",
      "228    26182\n",
      "39      3981\n",
      "261    20341\n",
      "185     9077\n",
      "Name: Second, Length: 104, dtype: int64\n"
     ]
    }
   ],
   "source": [
    "for val in val_sets.keys():\n",
    "    column, val_set = val\n",
    "    if val_set == \"val_y\":\n",
    "        print(val_sets[val])"
   ]
  },
  {
   "cell_type": "markdown",
   "id": "7e5fa61d",
   "metadata": {},
   "source": [
    "## Step 5: Plot results"
   ]
  },
  {
   "cell_type": "code",
   "execution_count": null,
   "id": "f4ae7996",
   "metadata": {},
   "outputs": [],
   "source": []
  }
 ],
 "metadata": {
  "kernelspec": {
   "display_name": "Python 3 (ipykernel)",
   "language": "python",
   "name": "python3"
  },
  "language_info": {
   "codemirror_mode": {
    "name": "ipython",
    "version": 3
   },
   "file_extension": ".py",
   "mimetype": "text/x-python",
   "name": "python",
   "nbconvert_exporter": "python",
   "pygments_lexer": "ipython3",
   "version": "3.9.7"
  }
 },
 "nbformat": 4,
 "nbformat_minor": 5
}
